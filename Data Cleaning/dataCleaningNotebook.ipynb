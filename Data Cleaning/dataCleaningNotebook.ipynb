{
 "cells": [
  {
   "cell_type": "markdown",
   "metadata": {},
   "source": [
    "This cell gets the features we want from the data sets and then merges it into a file called cleaned_merged_data.csv \n",
    "- Possibly start doing extra cleaning here, only taking into account ratings with a helpful score of at least 50% if there's > 0 reviews. "
   ]
  },
  {
   "cell_type": "code",
   "execution_count": null,
   "metadata": {},
   "outputs": [],
   "source": [
    "import os\n",
    "import pandas as pd\n",
    "\n",
    "book_ratings_columns = ['Title', 'review/helpfulness', 'review/score', 'review/summary', 'review/text']\n",
    "books_data_columns = ['Title', 'description', 'categories', 'ratingsCount']\n",
    "\n",
    "# Load Books_ratings.csv in chunks to handle large file size\n",
    "chunk_size = 100000  \n",
    "book_ratings_chunks = []\n",
    "\n",
    "for chunk in pd.read_csv('../dataset/Books_rating.csv', usecols=book_ratings_columns, chunksize=chunk_size):\n",
    "    book_ratings_chunks.append(chunk)\n",
    "\n",
    "# Concatenate chunks into a single DataFrame\n",
    "book_ratings = pd.concat(book_ratings_chunks, axis=0)\n",
    "\n",
    "books_data = pd.read_csv('../dataset/books_data.csv', usecols=books_data_columns)\n",
    "\n",
    "# Handle missing values by dropping rows with any missing values in important columns\n",
    "book_ratings.dropna(subset=['Title', 'review/score', 'review/summary', 'review/helpfulness'], inplace=True)\n",
    "books_data.dropna(subset=['Title', 'description', 'categories', 'ratingsCount'], inplace=True)\n",
    "\n",
    "# Remove duplicates\n",
    "book_ratings.drop_duplicates(inplace=True)\n",
    "books_data.drop_duplicates(inplace=True)\n",
    "\n",
    "# Filters out any reviews that don't have at least a 50% approval rate on helpfulness\n",
    "def filter_helpfulness(row):\n",
    "    try:\n",
    "        x, y = map(int, row.split('/'))\n",
    "        print(x, y)\n",
    "        \n",
    "        if y > 0 and (x / y) >= 0.5:\n",
    "            return True\n",
    "    except ValueError:\n",
    "        return False\n",
    "    return False\n",
    "\n",
    "filtered_rows = book_ratings[book_ratings['review/helpfulness'].apply(filter_helpfulness)]\n",
    "\n",
    "# Merge datasets based on title\n",
    "merged_data = pd.merge(filtered_rows, books_data, on='Title')\n",
    "\n",
    "output_dir = '../cleaned_data' \n",
    "\n",
    "if not os.path.exists(output_dir):\n",
    "    os.makedirs(output_dir)\n",
    "    \n",
    "output_file = os.path.join(output_dir, 'cleaned_merged_data.csv')\n",
    "\n",
    "merged_data.to_csv(output_file, index=False)"
   ]
  },
  {
   "cell_type": "markdown",
   "metadata": {},
   "source": [
    "This cell performs basic text cleaning tasks on the reviews: \n",
    "- Make them lowercase\n",
    "- Remove punctuation\n",
    "- Remove numerical values\n",
    "- Remove newlines"
   ]
  },
  {
   "cell_type": "code",
   "execution_count": 2,
   "metadata": {},
   "outputs": [],
   "source": [
    "import pandas as pd\n",
    "import string\n",
    "import re\n",
    "\n",
    "merged_data = pd.read_csv('../cleaned_data/cleaned_merged_data.csv')\n",
    "\n",
    "def preprocess_text(text): \n",
    "    if isinstance(text, str): # If text is a string\n",
    "        # Make text lowercase\n",
    "        text = text.lower()\n",
    "        # Remove punctuation\n",
    "        text = text.translate(str.maketrans('', '', string.punctuation))\n",
    "        # Remove numerical values\n",
    "        text = re.sub(r'\\d+', '', text)\n",
    "        # Remove newlines \n",
    "        text = text.replace('\\n', ' ')\n",
    "        return text\n",
    "    return '' \n",
    "\n",
    "columns_for_new_df = merged_data[['Title', 'description']]\n",
    "descriptions_df = pd.DataFrame(columns_for_new_df)\n",
    "\n",
    "columns_to_remove = ['review/helpfulness', 'review/score', 'description', 'categories', 'ratingsCount']\n",
    "merged_data.drop(columns_to_remove, axis = 1, inplace = True)\n",
    "\n",
    "merged_data['review/summary'] = merged_data['review/summary'].apply(preprocess_text)\n",
    "merged_data['review/text'] = merged_data['review/text'].apply(preprocess_text)\n",
    "descriptions_df['description'] = descriptions_df['description'].apply(preprocess_text)\n",
    "\n",
    "output_file_one = '../cleaned_data/preprocessed_data.csv'\n",
    "output_file_two = '../cleaned_data/preprocessed_description.csv'\n",
    "merged_data.to_csv(output_file_one, index = False)\n",
    "descriptions_df.to_csv(output_file_two, index = False)\n"
   ]
  },
  {
   "cell_type": "markdown",
   "metadata": {},
   "source": [
    "This cell performs tokenization and removes stop words on the reviews"
   ]
  },
  {
   "cell_type": "code",
   "execution_count": null,
   "metadata": {},
   "outputs": [],
   "source": [
    "import nltk \n",
    "nltk.download('punkt')\n",
    "nltk.download('stopwords')"
   ]
  },
  {
   "cell_type": "code",
   "execution_count": 3,
   "metadata": {},
   "outputs": [],
   "source": [
    "import nltk\n",
    "import pandas as pd\n",
    "from nltk.corpus import stopwords\n",
    "from nltk.tokenize import word_tokenize\n",
    "\n",
    "preprocessedData = pd.read_csv('../cleaned_data/preprocessed_data.csv')\n",
    "preprocessedDescriptions = pd.read_csv('../cleaned_data/preprocessed_description.csv')\n",
    "\n",
    "def tokenizeAndRemoveStopwords(text):\n",
    "    if isinstance(text, str):\n",
    "        tokens = word_tokenize(text) # tokenize text first to break them down into words/tokens\n",
    "        stopWords = set(stopwords.words('english')) # removing stopwords \n",
    "        tokens = [word for word in tokens if word not in stopWords]\n",
    "        return tokens\n",
    "    else:\n",
    "        return []\n",
    "\n",
    "preprocessedData['review/summary'] = preprocessedData['review/summary'].apply(tokenizeAndRemoveStopwords)\n",
    "preprocessedData['review/text'] = preprocessedData['review/text'].apply(tokenizeAndRemoveStopwords)\n",
    "preprocessedDescriptions['description'] = preprocessedDescriptions['description'].apply(tokenizeAndRemoveStopwords)\n",
    "\n",
    "outputFileOne = '../cleaned_data/tokenized_data.csv'\n",
    "outputFileTwo = '../cleaned_data/tokenized_descriptions.csv'\n",
    "\n",
    "preprocessedData.to_csv(outputFileOne, index=False)\n",
    "preprocessedDescriptions.to_csv(outputFileTwo, index=False)"
   ]
  },
  {
   "cell_type": "markdown",
   "metadata": {},
   "source": [
    "This cell performs lematization and creates bi-grams."
   ]
  }
 ],
 "metadata": {
  "kernelspec": {
   "display_name": "ecs132",
   "language": "python",
   "name": "python3"
  },
  "language_info": {
   "codemirror_mode": {
    "name": "ipython",
    "version": 3
   },
   "file_extension": ".py",
   "mimetype": "text/x-python",
   "name": "python",
   "nbconvert_exporter": "python",
   "pygments_lexer": "ipython3",
   "version": "3.12.0"
  }
 },
 "nbformat": 4,
 "nbformat_minor": 2
}
