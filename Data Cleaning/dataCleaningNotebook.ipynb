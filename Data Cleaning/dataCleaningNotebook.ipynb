{
 "cells": [
  {
   "cell_type": "markdown",
   "metadata": {},
   "source": [
    "This cell gets the features we want from the data sets and then merges it into a file called cleaned_mergedData.csv "
   ]
  },
  {
   "cell_type": "code",
   "execution_count": null,
   "metadata": {},
   "outputs": [],
   "source": [
    "import os\n",
    "import pandas as pd\n",
    "\n",
    "# Import colummns\n",
    "bookRatingsColumns = ['Title', 'review/helpfulness', 'review/score', 'review/summary', 'review/text']\n",
    "booksDataColumns = ['Title', 'description', 'categories', 'ratingsCount']\n",
    "\n",
    "# Load Books_ratings.csv in chunks to handle large file size\n",
    "chunkSize = 100000  \n",
    "bookRatingsChunks = []\n",
    "\n",
    "for chunk in pd.read_csv('../dataset/Books_rating.csv', usecols=bookRatingsColumns, chunksize=chunkSize):\n",
    "    bookRatingsChunks.append(chunk)\n",
    "\n",
    "# Concatenate chunks into a single DataFrame\n",
    "bookRatings = pd.concat(bookRatingsChunks, axis=0)\n",
    "\n",
    "# Load booksData.csv with important columns\n",
    "books_data = pd.read_csv('../dataset/books_data.csv', usecols=booksDataColumns)\n",
    "\n",
    "# Handle missing values by dropping rows with any missing values in critical columns\n",
    "bookRatings.dropna(subset=['Title', 'review/score', 'review/summary'], inplace=True)\n",
    "books_data.dropna(subset=['Title', 'description', 'categories', 'ratingsCount'], inplace=True)\n",
    "\n",
    "# Remove duplicates\n",
    "bookRatings.drop_duplicates(inplace=True)\n",
    "books_data.drop_duplicates(inplace=True)\n",
    "\n",
    "# Merge datasets on 'Title'\n",
    "merged_data = pd.merge(bookRatings, books_data, on='Title')\n",
    "\n",
    "# Define the output directory and file path relative to the current script location\n",
    "output_dir = '../cleaned_data' \n",
    "\n",
    "if not os.path.exists(output_dir):\n",
    "    os.makedirs(output_dir)\n",
    "    \n",
    "output_file = os.path.join(output_dir, 'cleaned_merged_data.csv')\n",
    "\n",
    "merged_data.to_csv(output_file, index=False)"
   ]
  },
  {
   "cell_type": "markdown",
   "metadata": {},
   "source": [
    "This cell performs basic text cleaning tasks on the reviews: \n",
    "- Make them lowercase\n",
    "- Remove punctuation\n",
    "- Remove numerical values\n",
    "- Remove newlines"
   ]
  },
  {
   "cell_type": "code",
   "execution_count": 9,
   "metadata": {},
   "outputs": [],
   "source": [
    "import pandas as pd\n",
    "import string\n",
    "import re\n",
    "\n",
    "merged_data = pd.read_csv('../cleaned_data/cleaned_merged_data.csv')\n",
    "\n",
    "def preprocessText(text): \n",
    "    if isinstance(text, str): # If text is a string\n",
    "        # Make text lowercase\n",
    "        text = text.lower()\n",
    "        # Remove punctuation\n",
    "        text = text.translate(str.maketrans('', '', string.punctuation))\n",
    "        # Remove numerical values\n",
    "        text = re.sub(r'\\d+', '', text)\n",
    "        # Remove newlines \n",
    "        text = text.replace('\\n', ' ')\n",
    "        return text\n",
    "    return '' \n",
    "\n",
    "merged_data['review/summary'] = merged_data['review/summary'].apply(preprocessText)\n",
    "merged_data['review/text'] = merged_data['review/text'].apply(preprocessText)\n",
    "\n",
    "outputFile = '../cleaned_data/preprocessed_data.csv'\n",
    "merged_data.to_csv(outputFile, index=False)\n"
   ]
  },
  {
   "cell_type": "markdown",
   "metadata": {},
   "source": [
    "This cell performs tokenization and removes stop words on the reviews"
   ]
  },
  {
   "cell_type": "code",
   "execution_count": 5,
   "metadata": {},
   "outputs": [
    {
     "name": "stderr",
     "output_type": "stream",
     "text": [
      "[nltk_data] Downloading package punkt to\n",
      "[nltk_data]     /Users/patricknguyen/nltk_data...\n",
      "[nltk_data]   Package punkt is already up-to-date!\n",
      "[nltk_data] Downloading package stopwords to\n",
      "[nltk_data]     /Users/patricknguyen/nltk_data...\n",
      "[nltk_data]   Package stopwords is already up-to-date!\n"
     ]
    }
   ],
   "source": [
    "import nltk\n",
    "import pandas as pd\n",
    "from nltk.corpus import stopwords\n",
    "from nltk.tokenize import word_tokenize\n",
    "\n",
    "nltk.download('punkt')\n",
    "nltk.download('stopwords')\n",
    "\n",
    "preprocessedData = pd.read_csv('../cleaned_data/preprocessed_data.csv')\n",
    "\n",
    "def tokenizeAndRemoveStopwords(text):\n",
    "    if isinstance(text, str):\n",
    "        tokens = word_tokenize(text) # tokenize text first to break them down into words/tokens\n",
    "        stopWords = set(stopwords.words('english')) # removing stopwords \n",
    "        tokens = [word for word in tokens if word not in stopWords]\n",
    "        return tokens\n",
    "    else:\n",
    "        return []\n",
    "\n",
    "preprocessedData['review/summary'] = preprocessedData['review/summary'].apply(tokenizeAndRemoveStopwords)\n",
    "preprocessedData['review/text'] = preprocessedData['review/text'].apply(tokenizeAndRemoveStopwords)\n",
    "\n",
    "outputFile = '../cleaned_data/tokenized_data.csv'\n",
    "preprocessedData.to_csv(outputFile, index=False)"
   ]
  }
 ],
 "metadata": {
  "kernelspec": {
   "display_name": "ecs132",
   "language": "python",
   "name": "python3"
  },
  "language_info": {
   "codemirror_mode": {
    "name": "ipython",
    "version": 3
   },
   "file_extension": ".py",
   "mimetype": "text/x-python",
   "name": "python",
   "nbconvert_exporter": "python",
   "pygments_lexer": "ipython3",
   "version": "3.12.0"
  }
 },
 "nbformat": 4,
 "nbformat_minor": 2
}
