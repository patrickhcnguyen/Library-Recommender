{
 "cells": [
  {
   "cell_type": "code",
   "execution_count": 7,
   "metadata": {},
   "outputs": [
    {
     "name": "stdout",
     "output_type": "stream",
     "text": [
      "Data cleaning and merging completed. The cleaned data has been saved at ../cleaned_data/cleaned_merged_data.csv.\n"
     ]
    }
   ],
   "source": [
    "import os\n",
    "import pandas as pd\n",
    "\n",
    "# Define the necessary columns for each dataset\n",
    "book_ratings_columns = ['Title', 'review/helpfulness', 'review/score', 'review/summary', 'review/text']\n",
    "books_data_columns = ['Title', 'description', 'categories', 'ratingsCount']\n",
    "\n",
    "# Load Books_ratings.csv in chunks to handle large file size\n",
    "chunk_size = 100000  # Adjust based on memory constraints\n",
    "book_ratings_chunks = []\n",
    "\n",
    "for chunk in pd.read_csv('../dataset/Books_rating.csv', usecols=book_ratings_columns, chunksize=chunk_size):\n",
    "    book_ratings_chunks.append(chunk)\n",
    "\n",
    "# Concatenate chunks into a single DataFrame\n",
    "book_ratings = pd.concat(book_ratings_chunks, axis=0)\n",
    "\n",
    "# Load books_data.csv with necessary columns\n",
    "books_data = pd.read_csv('../dataset/books_data.csv', usecols=books_data_columns)\n",
    "\n",
    "# Handle missing values by dropping rows with any missing values in critical columns\n",
    "book_ratings.dropna(subset=['Title', 'review/score', 'review/summary'], inplace=True)\n",
    "books_data.dropna(subset=['Title', 'description', 'categories', 'ratingsCount'], inplace=True)\n",
    "\n",
    "# Remove duplicates\n",
    "book_ratings.drop_duplicates(inplace=True)\n",
    "books_data.drop_duplicates(inplace=True)\n",
    "\n",
    "# Merge datasets on 'Title'\n",
    "merged_data = pd.merge(book_ratings, books_data, on='Title')\n",
    "\n",
    "# Define the output directory and file path relative to the current script location\n",
    "output_dir = '../cleaned_data'  # Assuming 'cleaned_data' directory is in the parent directory\n",
    "output_file = os.path.join(output_dir, 'cleaned_merged_data.csv')\n",
    "\n",
    "if not os.path.exists(output_dir):\n",
    "    os.makedirs(output_dir)\n",
    "\n",
    "merged_data.to_csv(output_file, index=False)\n",
    "\n"
   ]
  }
 ],
 "metadata": {
  "kernelspec": {
   "display_name": "ecs132",
   "language": "python",
   "name": "python3"
  },
  "language_info": {
   "codemirror_mode": {
    "name": "ipython",
    "version": 3
   },
   "file_extension": ".py",
   "mimetype": "text/x-python",
   "name": "python",
   "nbconvert_exporter": "python",
   "pygments_lexer": "ipython3",
   "version": "3.12.0"
  }
 },
 "nbformat": 4,
 "nbformat_minor": 2
}
